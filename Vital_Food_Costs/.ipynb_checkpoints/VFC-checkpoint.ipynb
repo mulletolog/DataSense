{
 "cells": [
  {
   "cell_type": "code",
   "execution_count": 2,
   "id": "c814b809-f4b1-4a35-a4d3-922936e1dd89",
   "metadata": {
    "tags": []
   },
   "outputs": [],
   "source": [
    "import pandas as pd\n",
    "import numpy as np\n",
    "import matplotlib.pyplot as plt\n",
    "import seaborn as sns\n",
    "%matplotlib inline"
   ]
  },
  {
   "cell_type": "code",
   "execution_count": 3,
   "id": "ceb3722d-03dc-4cfd-8cb7-dd758c4ef3d6",
   "metadata": {
    "tags": []
   },
   "outputs": [],
   "source": [
    "df = pd.read_csv('Food Prices.csv')"
   ]
  },
  {
   "cell_type": "code",
   "execution_count": 4,
   "id": "3e9c4f7e-f615-47fb-8e0b-68701076cf20",
   "metadata": {
    "tags": []
   },
   "outputs": [
    {
     "data": {
      "text/html": [
       "<div>\n",
       "<style scoped>\n",
       "    .dataframe tbody tr th:only-of-type {\n",
       "        vertical-align: middle;\n",
       "    }\n",
       "\n",
       "    .dataframe tbody tr th {\n",
       "        vertical-align: top;\n",
       "    }\n",
       "\n",
       "    .dataframe thead th {\n",
       "        text-align: right;\n",
       "    }\n",
       "</style>\n",
       "<table border=\"1\" class=\"dataframe\">\n",
       "  <thead>\n",
       "    <tr style=\"text-align: right;\">\n",
       "      <th></th>\n",
       "      <th>Country</th>\n",
       "      <th>Year</th>\n",
       "      <th>Month</th>\n",
       "      <th>Food Item</th>\n",
       "      <th>Unit of Measurement</th>\n",
       "      <th>Average Price</th>\n",
       "      <th>Currency</th>\n",
       "      <th>Price in USD</th>\n",
       "      <th>Availability</th>\n",
       "      <th>Quality</th>\n",
       "    </tr>\n",
       "  </thead>\n",
       "  <tbody>\n",
       "    <tr>\n",
       "      <th>0</th>\n",
       "      <td>Australia</td>\n",
       "      <td>2018</td>\n",
       "      <td>1</td>\n",
       "      <td>Bread</td>\n",
       "      <td>Loaf</td>\n",
       "      <td>2.20</td>\n",
       "      <td>AUD</td>\n",
       "      <td>1.47</td>\n",
       "      <td>1</td>\n",
       "      <td>High</td>\n",
       "    </tr>\n",
       "    <tr>\n",
       "      <th>1</th>\n",
       "      <td>Australia</td>\n",
       "      <td>2018</td>\n",
       "      <td>2</td>\n",
       "      <td>Bread</td>\n",
       "      <td>Loaf</td>\n",
       "      <td>2.20</td>\n",
       "      <td>AUD</td>\n",
       "      <td>1.48</td>\n",
       "      <td>1</td>\n",
       "      <td>High</td>\n",
       "    </tr>\n",
       "    <tr>\n",
       "      <th>2</th>\n",
       "      <td>Australia</td>\n",
       "      <td>2018</td>\n",
       "      <td>3</td>\n",
       "      <td>Bread</td>\n",
       "      <td>Loaf</td>\n",
       "      <td>2.20</td>\n",
       "      <td>AUD</td>\n",
       "      <td>1.48</td>\n",
       "      <td>1</td>\n",
       "      <td>High</td>\n",
       "    </tr>\n",
       "    <tr>\n",
       "      <th>3</th>\n",
       "      <td>Australia</td>\n",
       "      <td>2018</td>\n",
       "      <td>4</td>\n",
       "      <td>Bread</td>\n",
       "      <td>Loaf</td>\n",
       "      <td>2.21</td>\n",
       "      <td>AUD</td>\n",
       "      <td>1.48</td>\n",
       "      <td>1</td>\n",
       "      <td>High</td>\n",
       "    </tr>\n",
       "    <tr>\n",
       "      <th>4</th>\n",
       "      <td>Australia</td>\n",
       "      <td>2018</td>\n",
       "      <td>5</td>\n",
       "      <td>Bread</td>\n",
       "      <td>Loaf</td>\n",
       "      <td>2.21</td>\n",
       "      <td>AUD</td>\n",
       "      <td>1.48</td>\n",
       "      <td>1</td>\n",
       "      <td>High</td>\n",
       "    </tr>\n",
       "  </tbody>\n",
       "</table>\n",
       "</div>"
      ],
      "text/plain": [
       "    Country   Year   Month  Food Item  Unit of Measurement  Average Price   \\\n",
       "0  Australia   2018       1      Bread                Loaf            2.20   \n",
       "1  Australia   2018       2      Bread                Loaf            2.20   \n",
       "2  Australia   2018       3      Bread                Loaf            2.20   \n",
       "3  Australia   2018       4      Bread                Loaf            2.21   \n",
       "4  Australia   2018       5      Bread                Loaf            2.21   \n",
       "\n",
       "  Currency   Price in USD  Availability  Quality   \n",
       "0       AUD          1.47              1     High  \n",
       "1       AUD          1.48              1     High  \n",
       "2       AUD          1.48              1     High  \n",
       "3       AUD          1.48              1     High  \n",
       "4       AUD          1.48              1     High  "
      ]
     },
     "execution_count": 4,
     "metadata": {},
     "output_type": "execute_result"
    }
   ],
   "source": [
    "df.head()"
   ]
  },
  {
   "cell_type": "code",
   "execution_count": 5,
   "id": "4a064794-85b5-42b4-b7cd-4ba3086a3a41",
   "metadata": {
    "tags": []
   },
   "outputs": [
    {
     "name": "stdout",
     "output_type": "stream",
     "text": [
      "<class 'pandas.core.frame.DataFrame'>\n",
      "RangeIndex: 1200 entries, 0 to 1199\n",
      "Data columns (total 10 columns):\n",
      " #   Column               Non-Null Count  Dtype  \n",
      "---  ------               --------------  -----  \n",
      " 0   Country              1200 non-null   object \n",
      " 1   Year                 1200 non-null   int64  \n",
      " 2   Month                1200 non-null   int64  \n",
      " 3   Food Item            1200 non-null   object \n",
      " 4   Unit of Measurement  1200 non-null   object \n",
      " 5   Average Price        1200 non-null   float64\n",
      " 6   Currency             1200 non-null   object \n",
      " 7   Price in USD         1200 non-null   float64\n",
      " 8   Availability         1200 non-null   int64  \n",
      " 9   Quality              1200 non-null   object \n",
      "dtypes: float64(2), int64(3), object(5)\n",
      "memory usage: 93.9+ KB\n"
     ]
    }
   ],
   "source": [
    "df.info()"
   ]
  },
  {
   "cell_type": "code",
   "execution_count": 7,
   "id": "98998778-c36c-4ff6-ac3a-cbc586e37ae1",
   "metadata": {
    "tags": []
   },
   "outputs": [
    {
     "data": {
      "text/html": [
       "<div>\n",
       "<style scoped>\n",
       "    .dataframe tbody tr th:only-of-type {\n",
       "        vertical-align: middle;\n",
       "    }\n",
       "\n",
       "    .dataframe tbody tr th {\n",
       "        vertical-align: top;\n",
       "    }\n",
       "\n",
       "    .dataframe thead th {\n",
       "        text-align: right;\n",
       "    }\n",
       "</style>\n",
       "<table border=\"1\" class=\"dataframe\">\n",
       "  <thead>\n",
       "    <tr style=\"text-align: right;\">\n",
       "      <th></th>\n",
       "      <th>count</th>\n",
       "      <th>mean</th>\n",
       "      <th>std</th>\n",
       "      <th>min</th>\n",
       "      <th>25%</th>\n",
       "      <th>50%</th>\n",
       "      <th>75%</th>\n",
       "      <th>max</th>\n",
       "    </tr>\n",
       "  </thead>\n",
       "  <tbody>\n",
       "    <tr>\n",
       "      <th>Year</th>\n",
       "      <td>1200.0</td>\n",
       "      <td>2020.000000</td>\n",
       "      <td>1.414803</td>\n",
       "      <td>2018.00</td>\n",
       "      <td>2019.0000</td>\n",
       "      <td>2020.000</td>\n",
       "      <td>2021.0000</td>\n",
       "      <td>2022.00</td>\n",
       "    </tr>\n",
       "    <tr>\n",
       "      <th>Month</th>\n",
       "      <td>1200.0</td>\n",
       "      <td>6.500000</td>\n",
       "      <td>3.453492</td>\n",
       "      <td>1.00</td>\n",
       "      <td>3.7500</td>\n",
       "      <td>6.500</td>\n",
       "      <td>9.2500</td>\n",
       "      <td>12.00</td>\n",
       "    </tr>\n",
       "    <tr>\n",
       "      <th>Average Price</th>\n",
       "      <td>1200.0</td>\n",
       "      <td>59.129550</td>\n",
       "      <td>103.155832</td>\n",
       "      <td>1.22</td>\n",
       "      <td>3.2075</td>\n",
       "      <td>13.355</td>\n",
       "      <td>28.8825</td>\n",
       "      <td>421.43</td>\n",
       "    </tr>\n",
       "    <tr>\n",
       "      <th>Price in USD</th>\n",
       "      <td>1200.0</td>\n",
       "      <td>1.801842</td>\n",
       "      <td>0.725390</td>\n",
       "      <td>0.69</td>\n",
       "      <td>1.1700</td>\n",
       "      <td>1.680</td>\n",
       "      <td>2.3200</td>\n",
       "      <td>4.03</td>\n",
       "    </tr>\n",
       "    <tr>\n",
       "      <th>Availability</th>\n",
       "      <td>1200.0</td>\n",
       "      <td>1.000000</td>\n",
       "      <td>0.000000</td>\n",
       "      <td>1.00</td>\n",
       "      <td>1.0000</td>\n",
       "      <td>1.000</td>\n",
       "      <td>1.0000</td>\n",
       "      <td>1.00</td>\n",
       "    </tr>\n",
       "  </tbody>\n",
       "</table>\n",
       "</div>"
      ],
      "text/plain": [
       "                 count         mean         std      min        25%       50%  \\\n",
       "Year            1200.0  2020.000000    1.414803  2018.00  2019.0000  2020.000   \n",
       "Month           1200.0     6.500000    3.453492     1.00     3.7500     6.500   \n",
       "Average Price   1200.0    59.129550  103.155832     1.22     3.2075    13.355   \n",
       "Price in USD    1200.0     1.801842    0.725390     0.69     1.1700     1.680   \n",
       "Availability    1200.0     1.000000    0.000000     1.00     1.0000     1.000   \n",
       "\n",
       "                      75%      max  \n",
       "Year            2021.0000  2022.00  \n",
       "Month              9.2500    12.00  \n",
       "Average Price     28.8825   421.43  \n",
       "Price in USD       2.3200     4.03  \n",
       "Availability       1.0000     1.00  "
      ]
     },
     "execution_count": 7,
     "metadata": {},
     "output_type": "execute_result"
    }
   ],
   "source": [
    "df.describe().transpose()"
   ]
  },
  {
   "cell_type": "code",
   "execution_count": 19,
   "id": "ccf096b2-ed0f-4cac-9214-ac92f6c214c6",
   "metadata": {
    "tags": []
   },
   "outputs": [
    {
     "data": {
      "text/plain": [
       "0"
      ]
     },
     "execution_count": 19,
     "metadata": {},
     "output_type": "execute_result"
    }
   ],
   "source": [
    "df.duplicated().sum()"
   ]
  },
  {
   "cell_type": "code",
   "execution_count": 22,
   "id": "51d82cf2-b8f6-4da1-9f6f-9bbca4eab6c0",
   "metadata": {
    "tags": []
   },
   "outputs": [],
   "source": [
    "df.columns = df.columns.str.strip()\n"
   ]
  },
  {
   "cell_type": "code",
   "execution_count": 24,
   "id": "7acd7fb4-86d5-4b4d-8ad9-77b0b6c7ec1a",
   "metadata": {
    "tags": []
   },
   "outputs": [],
   "source": [
    "# Create a 'Date' column\n",
    "df['Date'] = pd.to_datetime(df[['Year', 'Month']].assign(DAY=1))\n"
   ]
  },
  {
   "cell_type": "code",
   "execution_count": 26,
   "id": "aec444e2-78ad-4a60-962c-2d6bc68f2fb4",
   "metadata": {
    "tags": []
   },
   "outputs": [],
   "source": [
    "df['Year'] = df['Date'].dt.year\n",
    "\n",
    "annual_price_increase = df.groupby(['Country', 'Food Item', 'Year'])['Average Price'].mean().pct_change()"
   ]
  },
  {
   "cell_type": "code",
   "execution_count": 32,
   "id": "5b1a4ad1-d824-4039-849b-289f636a0f2a",
   "metadata": {
    "tags": []
   },
   "outputs": [
    {
     "data": {
      "text/plain": [
       "Country       Food Item\n",
       "Australia     Bread         0.061278\n",
       "              Eggs          0.148078\n",
       "              Milk         -0.086629\n",
       "              Potatoes      0.210619\n",
       "Canada        Bread        -0.032381\n",
       "              Eggs          0.057002\n",
       "              Milk         -0.062406\n",
       "              Potatoes      0.030627\n",
       "Japan         Bread        11.798579\n",
       "              Eggs          0.048155\n",
       "              Milk         -0.047238\n",
       "              Potatoes      0.197910\n",
       "South Africa  Bread        -0.156713\n",
       "              Eggs          0.171958\n",
       "              Milk         -0.074896\n",
       "              Potatoes      0.025479\n",
       "Sweden        Bread         0.053998\n",
       "              Eggs          0.068615\n",
       "              Milk         -0.084327\n",
       "              Potatoes      0.004359\n",
       "Name: Average Price, dtype: float64"
      ]
     },
     "execution_count": 32,
     "metadata": {},
     "output_type": "execute_result"
    }
   ],
   "source": [
    "# Calculate the average inflation rate\n",
    "avg_inflation = annual_price_increase.groupby(['Country', 'Food Item']).mean()\n",
    "avg_inflation"
   ]
  },
  {
   "cell_type": "code",
   "execution_count": 31,
   "id": "faa01d35-e3be-4e07-a3a1-3c0a19e90b1b",
   "metadata": {
    "tags": []
   },
   "outputs": [
    {
     "data": {
      "text/html": [
       "<div>\n",
       "<style scoped>\n",
       "    .dataframe tbody tr th:only-of-type {\n",
       "        vertical-align: middle;\n",
       "    }\n",
       "\n",
       "    .dataframe tbody tr th {\n",
       "        vertical-align: top;\n",
       "    }\n",
       "\n",
       "    .dataframe thead th {\n",
       "        text-align: right;\n",
       "    }\n",
       "</style>\n",
       "<table border=\"1\" class=\"dataframe\">\n",
       "  <thead>\n",
       "    <tr style=\"text-align: right;\">\n",
       "      <th>Year</th>\n",
       "      <th>2018</th>\n",
       "      <th>2019</th>\n",
       "      <th>2020</th>\n",
       "      <th>2021</th>\n",
       "      <th>2022</th>\n",
       "    </tr>\n",
       "    <tr>\n",
       "      <th>Country</th>\n",
       "      <th></th>\n",
       "      <th></th>\n",
       "      <th></th>\n",
       "      <th></th>\n",
       "      <th></th>\n",
       "    </tr>\n",
       "  </thead>\n",
       "  <tbody>\n",
       "    <tr>\n",
       "      <th>Australia</th>\n",
       "      <td>2.480208</td>\n",
       "      <td>2.593542</td>\n",
       "      <td>2.735417</td>\n",
       "      <td>3.032500</td>\n",
       "      <td>3.503125</td>\n",
       "    </tr>\n",
       "    <tr>\n",
       "      <th>Canada</th>\n",
       "      <td>3.012708</td>\n",
       "      <td>3.082708</td>\n",
       "      <td>3.132500</td>\n",
       "      <td>3.195417</td>\n",
       "      <td>3.318125</td>\n",
       "    </tr>\n",
       "    <tr>\n",
       "      <th>Japan</th>\n",
       "      <td>239.826250</td>\n",
       "      <td>244.942917</td>\n",
       "      <td>251.661667</td>\n",
       "      <td>256.968750</td>\n",
       "      <td>267.052083</td>\n",
       "    </tr>\n",
       "    <tr>\n",
       "      <th>South Africa</th>\n",
       "      <td>17.326667</td>\n",
       "      <td>17.901042</td>\n",
       "      <td>18.731250</td>\n",
       "      <td>19.450208</td>\n",
       "      <td>20.398750</td>\n",
       "    </tr>\n",
       "    <tr>\n",
       "      <th>Sweden</th>\n",
       "      <td>16.686042</td>\n",
       "      <td>17.602500</td>\n",
       "      <td>18.601458</td>\n",
       "      <td>19.560417</td>\n",
       "      <td>21.442500</td>\n",
       "    </tr>\n",
       "  </tbody>\n",
       "</table>\n",
       "</div>"
      ],
      "text/plain": [
       "Year                2018        2019        2020        2021        2022\n",
       "Country                                                                 \n",
       "Australia       2.480208    2.593542    2.735417    3.032500    3.503125\n",
       "Canada          3.012708    3.082708    3.132500    3.195417    3.318125\n",
       "Japan         239.826250  244.942917  251.661667  256.968750  267.052083\n",
       "South Africa   17.326667   17.901042   18.731250   19.450208   20.398750\n",
       "Sweden         16.686042   17.602500   18.601458   19.560417   21.442500"
      ]
     },
     "execution_count": 31,
     "metadata": {},
     "output_type": "execute_result"
    }
   ],
   "source": [
    "# Economic Indicators:\n",
    "avg_price = df.groupby(['Country', 'Year'])['Average Price'].mean().unstack()\n",
    "avg_price"
   ]
  },
  {
   "cell_type": "code",
   "execution_count": 34,
   "id": "57faaae4-828a-45ba-a712-712a8bac7e23",
   "metadata": {
    "tags": []
   },
   "outputs": [],
   "source": [
    "#what is the average price for"
   ]
  },
  {
   "cell_type": "code",
   "execution_count": 35,
   "id": "7eed3f36-4f3a-43e8-a7dc-c1fd10c8e883",
   "metadata": {
    "tags": []
   },
   "outputs": [],
   "source": [
    "#graph the avg_inflation, very good data"
   ]
  },
  {
   "cell_type": "code",
   "execution_count": null,
   "id": "ba363bfd-623d-4fd1-afcc-7d60250371b6",
   "metadata": {},
   "outputs": [],
   "source": []
  }
 ],
 "metadata": {
  "kernelspec": {
   "display_name": "Python 3 (ipykernel)",
   "language": "python",
   "name": "python3"
  },
  "language_info": {
   "codemirror_mode": {
    "name": "ipython",
    "version": 3
   },
   "file_extension": ".py",
   "mimetype": "text/x-python",
   "name": "python",
   "nbconvert_exporter": "python",
   "pygments_lexer": "ipython3",
   "version": "3.10.9"
  }
 },
 "nbformat": 4,
 "nbformat_minor": 5
}
